{
 "cells": [
  {
   "cell_type": "code",
   "execution_count": 1,
   "id": "95f232df",
   "metadata": {},
   "outputs": [],
   "source": [
    "import nibabel as nib\n",
    "import numpy as np\n",
    "from PIL import Image, ImageOps"
   ]
  },
  {
   "cell_type": "code",
   "execution_count": null,
   "id": "80a14fe3",
   "metadata": {},
   "outputs": [
    {
     "name": "stdout",
     "output_type": "stream",
     "text": [
      "✅ File NIfTI salvato in: test\\diploe_mask.nii\n"
     ]
    }
   ],
   "source": [
    "# Path to the original NIfTI image (used only for shape and affine reference)\n",
    "nifti_path = r\"test\\neurocranium_ct_image.nii\"\n",
    "nifti_img = nib.load(nifti_path)\n",
    "nifti_data = nifti_img.get_fdata()\n",
    "reference_shape = nifti_img.shape      # Dimensions of the reference NIfTI\n",
    "affine = nifti_img.affine              # Spatial orientation matrix\n",
    "\n",
    "# Path to the folder containing the sagittal-plane segmentation masks (PNG format)\n",
    "png_base_path = \"test\\segmentation_masks_folder_sagittal_plane\\diploe_mask\"\n",
    "\n",
    "# Path where the output NIfTI file will be saved\n",
    "output_nifti_path = \"test\\diploe_mask.nii\"\n",
    "\n",
    "# List of PNG slice indices to be used, and their corresponding NIfTI slice indices\n",
    "# Note: In this example, sagittal slices are indexed from the opposite end,\n",
    "# so the mapping is reversed using (511 - idx).\n",
    "png_slices = range(126, 383)\n",
    "nifti_slices = [511 - idx for idx in png_slices]\n",
    "\n",
    "# Initialize an empty 3D volume (same shape as the reference NIfTI)\n",
    "volume_3d = np.zeros(reference_shape)\n",
    "\n",
    "# Loop over PNG slices and insert them into the correct NIfTI slice position\n",
    "for png_idx, nifti_idx in zip(png_slices, nifti_slices):\n",
    "    png_path = f\"{png_base_path}/Slice_{png_idx}_diploe_mask.png\"\n",
    "    try:\n",
    "        # Load the PNG mask as grayscale\n",
    "        img = Image.open(png_path).convert('L')\n",
    "\n",
    "        # Flip vertically to match NIfTI orientation\n",
    "        img_flipped = ImageOps.flip(img)\n",
    "\n",
    "        # Resize to match NIfTI in-plane dimensions (Y, Z axes)\n",
    "        img_resized = img_flipped.resize(\n",
    "            (reference_shape[1], reference_shape[2]),\n",
    "            Image.Resampling.LANCZOS\n",
    "        )\n",
    "\n",
    "        # Convert to NumPy array\n",
    "        png_array = np.array(img_resized)\n",
    "\n",
    "        # Insert into the 3D volume (transpose to correct orientation)\n",
    "        volume_3d[nifti_idx, :, :] = png_array.T\n",
    "\n",
    "    except FileNotFoundError:\n",
    "        # If the PNG is missing, skip it and print a warning\n",
    "        print(f\"⚠️ File not found: {png_path}. Slice skipped.\")\n",
    "        continue\n",
    "\n",
    "# Create and save the new NIfTI file\n",
    "new_nifti = nib.Nifti1Image(volume_3d, affine)\n",
    "nib.save(new_nifti, output_nifti_path)\n",
    "\n",
    "print(f\"✅ NIfTI file saved at: {output_nifti_path}\")"
   ]
  }
 ],
 "metadata": {
  "kernelspec": {
   "display_name": "Python 3",
   "language": "python",
   "name": "python3"
  },
  "language_info": {
   "codemirror_mode": {
    "name": "ipython",
    "version": 3
   },
   "file_extension": ".py",
   "mimetype": "text/x-python",
   "name": "python",
   "nbconvert_exporter": "python",
   "pygments_lexer": "ipython3",
   "version": "3.11.0"
  }
 },
 "nbformat": 4,
 "nbformat_minor": 5
}
