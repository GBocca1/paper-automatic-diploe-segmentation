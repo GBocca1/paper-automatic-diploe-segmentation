{
 "cells": [
  {
   "cell_type": "markdown",
   "metadata": {},
   "source": [
    "## PREPROCESSING: NEUROCRANIUM GAMMA IMAGE "
   ]
  },
  {
   "cell_type": "code",
   "execution_count": null,
   "metadata": {},
   "outputs": [],
   "source": [
    "import nibabel as nib\n",
    "import numpy as np\n",
    "\n",
    "ct_nifti_image = r\"test\\neurocranium_ct_image.nii\"\n",
    "\n",
    "# Load the NIfTI file\n",
    "nifti_img = nib.load(ct_nifti_image)\n",
    "image_data = nifti_img.get_fdata()\n",
    "affine_matrix = nifti_img.affine.copy()\n",
    "dims = nifti_img.shape\n",
    "\n",
    "# Invert the sign of the X axis in the affine matrix\n",
    "affine_matrix[0, 0] *= -1  \n",
    "\n",
    "# Adjust the translation along the X axis\n",
    "affine_matrix[0, 3] += affine_matrix[0, 0] * (dims[0] - 1)\n",
    "\n",
    "# Flip voxel data along the X axis to align with the new affine\n",
    "flipped_data = np.flip(image_data, axis=0)\n",
    "\n",
    "# Normalize data to the range [0, 1]\n",
    "normalized_image = flipped_data / np.max(flipped_data)\n",
    "\n",
    "gamma = 2.2\n",
    "\n",
    "# Apply gamma correction\n",
    "gamma_corrected = np.power(normalized_image, gamma)\n",
    "\n",
    "# Denormalize the data back to the original range [0, max_value]\n",
    "max_value = np.max(flipped_data)\n",
    "gamma_corrected_image = gamma_corrected * max_value\n",
    "\n",
    "# Create a NIfTI image from the gamma-corrected data\n",
    "gamma_corrected_img = nib.Nifti1Image(\n",
    "    gamma_corrected_image, \n",
    "    affine=affine_matrix, \n",
    "    header=nifti_img.header\n",
    ")\n",
    "\n",
    "# Save the gamma-corrected image\n",
    "gamma_corrected_image_path = r\"test\\gamma_corrected_neurocranium_ct_image.nii\"\n",
    "nib.save(gamma_corrected_img, gamma_corrected_image_path)\n"
   ]
  }
 ],
 "metadata": {
  "kernelspec": {
   "display_name": "Python 3",
   "language": "python",
   "name": "python3"
  },
  "language_info": {
   "codemirror_mode": {
    "name": "ipython",
    "version": 3
   },
   "file_extension": ".py",
   "mimetype": "text/x-python",
   "name": "python",
   "nbconvert_exporter": "python",
   "pygments_lexer": "ipython3",
   "version": "3.11.6"
  }
 },
 "nbformat": 4,
 "nbformat_minor": 2
}
